{
 "cells": [
  {
   "cell_type": "code",
   "execution_count": 1,
   "metadata": {},
   "outputs": [],
   "source": [
    "import matplotlib.pyplot as plt\n",
    "%matplotlib inline\n",
    "import pandas as pd, numpy as np, re, time\n",
    "import itertools\n",
    "import seaborn as sns\n",
    "sns.set(style = \"whitegrid\", color_codes = True,font_scale = 1.5)\n",
    "from nltk.stem.porter import PorterStemmer\n",
    "from sklearn.model_selection import train_test_split\n",
    "from sklearn.metrics import confusion_matrix\n",
    "from sklearn.svm import LinearSVC\n",
    "from sklearn.model_selection import cross_val_score\n",
    "from sklearn.naive_bayes import GaussianNB\n",
    "from sklearn.linear_model import LogisticRegression\n",
    "from sklearn.ensemble import RandomForestClassifier\n",
    "from sklearn.feature_extraction.text import TfidfVectorizer"
   ]
  },
  {
   "cell_type": "code",
   "execution_count": 260,
   "metadata": {},
   "outputs": [],
   "source": [
    "df = pd.read_csv(\"train-balanced-sarcasm.csv\")"
   ]
  },
  {
   "cell_type": "markdown",
   "metadata": {},
   "source": [
    "# EDA"
   ]
  },
  {
   "cell_type": "code",
   "execution_count": 261,
   "metadata": {},
   "outputs": [
    {
     "data": {
      "text/html": [
       "<div>\n",
       "<style scoped>\n",
       "    .dataframe tbody tr th:only-of-type {\n",
       "        vertical-align: middle;\n",
       "    }\n",
       "\n",
       "    .dataframe tbody tr th {\n",
       "        vertical-align: top;\n",
       "    }\n",
       "\n",
       "    .dataframe thead th {\n",
       "        text-align: right;\n",
       "    }\n",
       "</style>\n",
       "<table border=\"1\" class=\"dataframe\">\n",
       "  <thead>\n",
       "    <tr style=\"text-align: right;\">\n",
       "      <th></th>\n",
       "      <th>label</th>\n",
       "      <th>comment</th>\n",
       "      <th>author</th>\n",
       "      <th>subreddit</th>\n",
       "      <th>score</th>\n",
       "      <th>ups</th>\n",
       "      <th>downs</th>\n",
       "      <th>date</th>\n",
       "      <th>created_utc</th>\n",
       "      <th>parent_comment</th>\n",
       "    </tr>\n",
       "  </thead>\n",
       "  <tbody>\n",
       "    <tr>\n",
       "      <th>0</th>\n",
       "      <td>0</td>\n",
       "      <td>NC and NH.</td>\n",
       "      <td>Trumpbart</td>\n",
       "      <td>politics</td>\n",
       "      <td>2</td>\n",
       "      <td>-1</td>\n",
       "      <td>-1</td>\n",
       "      <td>2016-10</td>\n",
       "      <td>2016-10-16 23:55:23</td>\n",
       "      <td>Yeah, I get that argument. At this point, I'd ...</td>\n",
       "    </tr>\n",
       "    <tr>\n",
       "      <th>1</th>\n",
       "      <td>0</td>\n",
       "      <td>You do know west teams play against west teams...</td>\n",
       "      <td>Shbshb906</td>\n",
       "      <td>nba</td>\n",
       "      <td>-4</td>\n",
       "      <td>-1</td>\n",
       "      <td>-1</td>\n",
       "      <td>2016-11</td>\n",
       "      <td>2016-11-01 00:24:10</td>\n",
       "      <td>The blazers and Mavericks (The wests 5 and 6 s...</td>\n",
       "    </tr>\n",
       "    <tr>\n",
       "      <th>2</th>\n",
       "      <td>0</td>\n",
       "      <td>They were underdogs earlier today, but since G...</td>\n",
       "      <td>Creepeth</td>\n",
       "      <td>nfl</td>\n",
       "      <td>3</td>\n",
       "      <td>3</td>\n",
       "      <td>0</td>\n",
       "      <td>2016-09</td>\n",
       "      <td>2016-09-22 21:45:37</td>\n",
       "      <td>They're favored to win.</td>\n",
       "    </tr>\n",
       "    <tr>\n",
       "      <th>3</th>\n",
       "      <td>0</td>\n",
       "      <td>This meme isn't funny none of the \"new york ni...</td>\n",
       "      <td>icebrotha</td>\n",
       "      <td>BlackPeopleTwitter</td>\n",
       "      <td>-8</td>\n",
       "      <td>-1</td>\n",
       "      <td>-1</td>\n",
       "      <td>2016-10</td>\n",
       "      <td>2016-10-18 21:03:47</td>\n",
       "      <td>deadass don't kill my buzz</td>\n",
       "    </tr>\n",
       "    <tr>\n",
       "      <th>4</th>\n",
       "      <td>0</td>\n",
       "      <td>I could use one of those tools.</td>\n",
       "      <td>cush2push</td>\n",
       "      <td>MaddenUltimateTeam</td>\n",
       "      <td>6</td>\n",
       "      <td>-1</td>\n",
       "      <td>-1</td>\n",
       "      <td>2016-12</td>\n",
       "      <td>2016-12-30 17:00:13</td>\n",
       "      <td>Yep can confirm I saw the tool they use for th...</td>\n",
       "    </tr>\n",
       "  </tbody>\n",
       "</table>\n",
       "</div>"
      ],
      "text/plain": [
       "   label                                            comment     author  \\\n",
       "0      0                                         NC and NH.  Trumpbart   \n",
       "1      0  You do know west teams play against west teams...  Shbshb906   \n",
       "2      0  They were underdogs earlier today, but since G...   Creepeth   \n",
       "3      0  This meme isn't funny none of the \"new york ni...  icebrotha   \n",
       "4      0                    I could use one of those tools.  cush2push   \n",
       "\n",
       "            subreddit  score  ups  downs     date          created_utc  \\\n",
       "0            politics      2   -1     -1  2016-10  2016-10-16 23:55:23   \n",
       "1                 nba     -4   -1     -1  2016-11  2016-11-01 00:24:10   \n",
       "2                 nfl      3    3      0  2016-09  2016-09-22 21:45:37   \n",
       "3  BlackPeopleTwitter     -8   -1     -1  2016-10  2016-10-18 21:03:47   \n",
       "4  MaddenUltimateTeam      6   -1     -1  2016-12  2016-12-30 17:00:13   \n",
       "\n",
       "                                      parent_comment  \n",
       "0  Yeah, I get that argument. At this point, I'd ...  \n",
       "1  The blazers and Mavericks (The wests 5 and 6 s...  \n",
       "2                            They're favored to win.  \n",
       "3                         deadass don't kill my buzz  \n",
       "4  Yep can confirm I saw the tool they use for th...  "
      ]
     },
     "execution_count": 261,
     "metadata": {},
     "output_type": "execute_result"
    }
   ],
   "source": [
    "df.head()"
   ]
  },
  {
   "cell_type": "code",
   "execution_count": 262,
   "metadata": {
    "scrolled": true
   },
   "outputs": [
    {
     "name": "stdout",
     "output_type": "stream",
     "text": [
      "Number of Comments 1010826\n"
     ]
    }
   ],
   "source": [
    "print(\"Number of Comments:\", len(df))"
   ]
  },
  {
   "cell_type": "code",
   "execution_count": 263,
   "metadata": {},
   "outputs": [
    {
     "data": {
      "text/plain": [
       "Index(['label', 'comment', 'author', 'subreddit', 'score', 'ups', 'downs',\n",
       "       'date', 'created_utc', 'parent_comment'],\n",
       "      dtype='object')"
      ]
     },
     "execution_count": 263,
     "metadata": {},
     "output_type": "execute_result"
    }
   ],
   "source": [
    "df.columns"
   ]
  },
  {
   "cell_type": "code",
   "execution_count": 264,
   "metadata": {},
   "outputs": [
    {
     "name": "stdout",
     "output_type": "stream",
     "text": [
      "Number of Sarcastic Comments 505413\n",
      "Number of Non-Sarcastic Comments 505413\n"
     ]
    }
   ],
   "source": [
    "print(\"Number of Sarcastic Comments\", len(df.loc[df['label'] == 1]))\n",
    "print(\"Number of Non-Sarcastic Comments\", len(df.loc[df['label'] == 0]))"
   ]
  },
  {
   "cell_type": "code",
   "execution_count": 265,
   "metadata": {},
   "outputs": [
    {
     "name": "stdout",
     "output_type": "stream",
     "text": [
      "Authors who commented the most?\n"
     ]
    },
    {
     "data": {
      "text/plain": [
       "(array([ 0,  1,  2,  3,  4,  5,  6,  7,  8,  9, 10, 11, 12, 13, 14, 15, 16,\n",
       "        17, 18, 19, 20, 21, 22, 23, 24, 25, 26, 27, 28, 29, 30, 31, 32, 33,\n",
       "        34, 35, 36, 37, 38, 39, 40, 41, 42, 43, 44, 45, 46, 47, 48, 49]),\n",
       " <a list of 50 Text xticklabel objects>)"
      ]
     },
     "execution_count": 265,
     "metadata": {},
     "output_type": "execute_result"
    },
    {
     "data": {
      "image/png": "[encoded data removed]",
      "text/plain": [
       "<Figure size 2160x576 with 1 Axes>"
      ]
     },
     "metadata": {},
     "output_type": "display_data"
    }
   ],
   "source": [
    "print(\"Authors who commented the most?\")\n",
    "plt.figure(figsize = (30,8))\n",
    "star_count = df['author'].value_counts().sort_values(ascending=False)\n",
    "sns.barplot(star_count.index[:50],star_count.values[:50],color='b')\n",
    "plt.xticks(rotation=40,horizontalalignment='right')"
   ]
  },
  {
   "cell_type": "code",
   "execution_count": 266,
   "metadata": {},
   "outputs": [
    {
     "data": {
      "image/png": "[encoded data removed]",
      "text/plain": [
       "<Figure size 1440x576 with 1 Axes>"
      ]
     },
     "metadata": {},
     "output_type": "display_data"
    }
   ],
   "source": [
    "plt.figure(figsize = (20,8))\n",
    "sns.distplot(star_count.values,kde=False,color='b', hist_kws=dict(alpha=1))\n",
    "plt.yscale('log', nonposy='clip')\n",
    "plt.xlabel(\"Count of Posts by User\")\n",
    "plt.ylabel(\"Frequency of Users Who Post at the Count of Posts\")\n",
    "plt.show()"
   ]
  },
  {
   "cell_type": "markdown",
   "metadata": {},
   "source": [
    "**As we can see here, there is an outliar amongst the authors of the reddit posts. One redditor in particular (username \"Biffingston\") posts a disproportionate amount compared the others. However, since the number of comments is exponential in comparison to the rest of the users, it shouldn't have too much of an effect.**"
   ]
  },
  {
   "cell_type": "markdown",
   "metadata": {},
   "source": [
    "# Subsetting the Data"
   ]
  },
  {
   "cell_type": "code",
   "execution_count": 267,
   "metadata": {},
   "outputs": [],
   "source": [
    "df = pd.read_csv(\"train-balanced-sarcasm.csv\")"
   ]
  },
  {
   "cell_type": "code",
   "execution_count": 268,
   "metadata": {},
   "outputs": [
    {
     "name": "stdout",
     "output_type": "stream",
     "text": [
      "50000\n"
     ]
    }
   ],
   "source": [
    "sample_size = input()"
   ]
  },
  {
   "cell_type": "code",
   "execution_count": 269,
   "metadata": {},
   "outputs": [],
   "source": [
    "df = df.sample(int(sample_size))\n",
    "df.reset_index(drop=True,inplace=True)"
   ]
  },
  {
   "cell_type": "markdown",
   "metadata": {},
   "source": [
    "# Data Cleaning"
   ]
  },
  {
   "cell_type": "code",
   "execution_count": 270,
   "metadata": {},
   "outputs": [
    {
     "data": {
      "text/html": [
       "<div>\n",
       "<style scoped>\n",
       "    .dataframe tbody tr th:only-of-type {\n",
       "        vertical-align: middle;\n",
       "    }\n",
       "\n",
       "    .dataframe tbody tr th {\n",
       "        vertical-align: top;\n",
       "    }\n",
       "\n",
       "    .dataframe thead th {\n",
       "        text-align: right;\n",
       "    }\n",
       "</style>\n",
       "<table border=\"1\" class=\"dataframe\">\n",
       "  <thead>\n",
       "    <tr style=\"text-align: right;\">\n",
       "      <th></th>\n",
       "      <th>label</th>\n",
       "      <th>comment</th>\n",
       "      <th>author</th>\n",
       "      <th>subreddit</th>\n",
       "      <th>score</th>\n",
       "      <th>ups</th>\n",
       "      <th>downs</th>\n",
       "      <th>date</th>\n",
       "      <th>created_utc</th>\n",
       "      <th>parent_comment</th>\n",
       "    </tr>\n",
       "  </thead>\n",
       "  <tbody>\n",
       "    <tr>\n",
       "      <th>0</th>\n",
       "      <td>0</td>\n",
       "      <td>Seeing the ad for this movie got me so excited</td>\n",
       "      <td>czervick212</td>\n",
       "      <td>batman</td>\n",
       "      <td>1</td>\n",
       "      <td>1</td>\n",
       "      <td>0</td>\n",
       "      <td>2016-03</td>\n",
       "      <td>2016-03-25 12:15:29</td>\n",
       "      <td>All the suits in the Lego Batman Movie trailer</td>\n",
       "    </tr>\n",
       "    <tr>\n",
       "      <th>1</th>\n",
       "      <td>0</td>\n",
       "      <td>He's just doing the Kansas City Shuffle.</td>\n",
       "      <td>DeLuca2400</td>\n",
       "      <td>AskReddit</td>\n",
       "      <td>2</td>\n",
       "      <td>2</td>\n",
       "      <td>0</td>\n",
       "      <td>2015-08</td>\n",
       "      <td>2015-08-21 18:23:47</td>\n",
       "      <td>Josh Harnett.</td>\n",
       "    </tr>\n",
       "    <tr>\n",
       "      <th>2</th>\n",
       "      <td>1</td>\n",
       "      <td>But how will I be constantly up to date on eve...</td>\n",
       "      <td>Kick_Kass</td>\n",
       "      <td>baseball</td>\n",
       "      <td>3</td>\n",
       "      <td>3</td>\n",
       "      <td>0</td>\n",
       "      <td>2013-12</td>\n",
       "      <td>2013-12-14 16:58:02</td>\n",
       "      <td>One can only hope.</td>\n",
       "    </tr>\n",
       "    <tr>\n",
       "      <th>3</th>\n",
       "      <td>0</td>\n",
       "      <td>10/10 Would watch again.</td>\n",
       "      <td>Cipher70</td>\n",
       "      <td>Showerthoughts</td>\n",
       "      <td>1</td>\n",
       "      <td>1</td>\n",
       "      <td>0</td>\n",
       "      <td>2016-02</td>\n",
       "      <td>2016-02-15 16:24:11</td>\n",
       "      <td>Deadpool should have leaked a fake version of ...</td>\n",
       "    </tr>\n",
       "    <tr>\n",
       "      <th>4</th>\n",
       "      <td>1</td>\n",
       "      <td>Was never wrong</td>\n",
       "      <td>natlouwet</td>\n",
       "      <td>AskReddit</td>\n",
       "      <td>0</td>\n",
       "      <td>0</td>\n",
       "      <td>0</td>\n",
       "      <td>2015-07</td>\n",
       "      <td>2015-07-24 01:37:18</td>\n",
       "      <td>What does the opposite sex do you wish your ge...</td>\n",
       "    </tr>\n",
       "    <tr>\n",
       "      <th>5</th>\n",
       "      <td>0</td>\n",
       "      <td>I think we found one of the only people thinki...</td>\n",
       "      <td>Sterling__Archer_</td>\n",
       "      <td>news</td>\n",
       "      <td>-4</td>\n",
       "      <td>-4</td>\n",
       "      <td>0</td>\n",
       "      <td>2015-08</td>\n",
       "      <td>2015-08-06 02:53:10</td>\n",
       "      <td>Guys I found the cop in this thread</td>\n",
       "    </tr>\n",
       "    <tr>\n",
       "      <th>6</th>\n",
       "      <td>1</td>\n",
       "      <td>He's got a much more lethal tool - the bible.</td>\n",
       "      <td>SnackieOnasis416</td>\n",
       "      <td>toronto</td>\n",
       "      <td>1</td>\n",
       "      <td>1</td>\n",
       "      <td>0</td>\n",
       "      <td>2016-09</td>\n",
       "      <td>2016-09-30 07:59:17</td>\n",
       "      <td>This man speaks the truth. Can we please give ...</td>\n",
       "    </tr>\n",
       "    <tr>\n",
       "      <th>7</th>\n",
       "      <td>0</td>\n",
       "      <td>TIL the President doesn't cast his vote in D.C.</td>\n",
       "      <td>Shell-of-Light</td>\n",
       "      <td>hillaryclinton</td>\n",
       "      <td>10</td>\n",
       "      <td>-1</td>\n",
       "      <td>-1</td>\n",
       "      <td>2016-10</td>\n",
       "      <td>2016-10-08 02:05:53</td>\n",
       "      <td>Obama casts early ballot for Clinton in Chicago</td>\n",
       "    </tr>\n",
       "    <tr>\n",
       "      <th>8</th>\n",
       "      <td>1</td>\n",
       "      <td>Too late, you already triggered me.</td>\n",
       "      <td>DankrudeSandstorm</td>\n",
       "      <td>TumblrInAction</td>\n",
       "      <td>37</td>\n",
       "      <td>37</td>\n",
       "      <td>0</td>\n",
       "      <td>2015-07</td>\n",
       "      <td>2015-07-06 16:04:27</td>\n",
       "      <td>Eat, purge, repeat.* *But don't, Bulimia is ba...</td>\n",
       "    </tr>\n",
       "    <tr>\n",
       "      <th>9</th>\n",
       "      <td>0</td>\n",
       "      <td>Quitting is often not an option: people have t...</td>\n",
       "      <td>daimoneu</td>\n",
       "      <td>Anarchism</td>\n",
       "      <td>4</td>\n",
       "      <td>4</td>\n",
       "      <td>0</td>\n",
       "      <td>2012-07</td>\n",
       "      <td>2012-07-31 15:57:05</td>\n",
       "      <td>Safe word for wage labor is, \"I quit!\"</td>\n",
       "    </tr>\n",
       "    <tr>\n",
       "      <th>10</th>\n",
       "      <td>1</td>\n",
       "      <td>But it doesn't count if they left Turkey!</td>\n",
       "      <td>3dg3c4s3</td>\n",
       "      <td>worldnews</td>\n",
       "      <td>-5</td>\n",
       "      <td>-5</td>\n",
       "      <td>0</td>\n",
       "      <td>2015-11</td>\n",
       "      <td>2015-11-25 05:05:09</td>\n",
       "      <td>Everyone already knew this. The plane flew int...</td>\n",
       "    </tr>\n",
       "    <tr>\n",
       "      <th>11</th>\n",
       "      <td>1</td>\n",
       "      <td>OMG someone is able to put newlines in a level...</td>\n",
       "      <td>mgostIH</td>\n",
       "      <td>geometrydash</td>\n",
       "      <td>2</td>\n",
       "      <td>2</td>\n",
       "      <td>0</td>\n",
       "      <td>2016-09</td>\n",
       "      <td>2016-09-11 11:31:54</td>\n",
       "      <td>GDTested Is Back?!</td>\n",
       "    </tr>\n",
       "    <tr>\n",
       "      <th>12</th>\n",
       "      <td>1</td>\n",
       "      <td>But she's a strong independent woman</td>\n",
       "      <td>DrScientist812</td>\n",
       "      <td>AskReddit</td>\n",
       "      <td>1</td>\n",
       "      <td>1</td>\n",
       "      <td>0</td>\n",
       "      <td>2016-08</td>\n",
       "      <td>2016-08-20 16:34:44</td>\n",
       "      <td>Melissa McCarthy</td>\n",
       "    </tr>\n",
       "    <tr>\n",
       "      <th>13</th>\n",
       "      <td>1</td>\n",
       "      <td>Yeah gay guys definitely care about penis size...</td>\n",
       "      <td>Arthur_Dayne</td>\n",
       "      <td>sex</td>\n",
       "      <td>2</td>\n",
       "      <td>2</td>\n",
       "      <td>0</td>\n",
       "      <td>2013-12</td>\n",
       "      <td>2013-12-25 20:54:18</td>\n",
       "      <td>I think I'd be better off choosing to be gay b...</td>\n",
       "    </tr>\n",
       "    <tr>\n",
       "      <th>14</th>\n",
       "      <td>1</td>\n",
       "      <td>Yet another isolated incident, a few bad apple...</td>\n",
       "      <td>lemurlemur</td>\n",
       "      <td>videos</td>\n",
       "      <td>12</td>\n",
       "      <td>12</td>\n",
       "      <td>0</td>\n",
       "      <td>2011-06</td>\n",
       "      <td>2011-06-07 14:28:25</td>\n",
       "      <td>A police officer smashed this man's phone to p...</td>\n",
       "    </tr>\n",
       "    <tr>\n",
       "      <th>15</th>\n",
       "      <td>0</td>\n",
       "      <td>LEt's think we're being clever in \"ponting out...</td>\n",
       "      <td>Biffingston</td>\n",
       "      <td>SubredditDrama</td>\n",
       "      <td>12</td>\n",
       "      <td>12</td>\n",
       "      <td>0</td>\n",
       "      <td>2013-08</td>\n",
       "      <td>2013-08-29 23:34:08</td>\n",
       "      <td>Let's rehash this argument in SRD comments!</td>\n",
       "    </tr>\n",
       "    <tr>\n",
       "      <th>16</th>\n",
       "      <td>1</td>\n",
       "      <td>I see the changes from the first half of the s...</td>\n",
       "      <td>ChrisKamanMyEye</td>\n",
       "      <td>nba</td>\n",
       "      <td>2</td>\n",
       "      <td>2</td>\n",
       "      <td>0</td>\n",
       "      <td>2016-02</td>\n",
       "      <td>2016-02-20 06:11:56</td>\n",
       "      <td>Mark Medina on Twitter: \"Byron said that D'Ang...</td>\n",
       "    </tr>\n",
       "    <tr>\n",
       "      <th>17</th>\n",
       "      <td>1</td>\n",
       "      <td>God the Elin are sexy</td>\n",
       "      <td>Sovaar_Paagoliik</td>\n",
       "      <td>gaming</td>\n",
       "      <td>1</td>\n",
       "      <td>1</td>\n",
       "      <td>0</td>\n",
       "      <td>2016-06</td>\n",
       "      <td>2016-06-19 02:10:19</td>\n",
       "      <td>The best (or worst) part of all this is that t...</td>\n",
       "    </tr>\n",
       "    <tr>\n",
       "      <th>18</th>\n",
       "      <td>1</td>\n",
       "      <td>If you look at the small print, the NYT +6 for...</td>\n",
       "      <td>jlalbrecht</td>\n",
       "      <td>Kossacks_for_Sanders</td>\n",
       "      <td>3</td>\n",
       "      <td>3</td>\n",
       "      <td>0</td>\n",
       "      <td>2016-05</td>\n",
       "      <td>2016-05-23 06:31:39</td>\n",
       "      <td>In fact RR ha Trump +5, NYT has Clinton +6. Qu...</td>\n",
       "    </tr>\n",
       "    <tr>\n",
       "      <th>19</th>\n",
       "      <td>0</td>\n",
       "      <td>Wow, Carl has had a *legendary* growth spurt.</td>\n",
       "      <td>crack_a_toe_ah</td>\n",
       "      <td>AskReddit</td>\n",
       "      <td>141</td>\n",
       "      <td>-1</td>\n",
       "      <td>-1</td>\n",
       "      <td>2016-11</td>\n",
       "      <td>2016-11-03 16:31:29</td>\n",
       "      <td>Definitely not 5 years. Judith is only 1ish. W...</td>\n",
       "    </tr>\n",
       "    <tr>\n",
       "      <th>20</th>\n",
       "      <td>0</td>\n",
       "      <td>Listen Up America</td>\n",
       "      <td>Vozahh</td>\n",
       "      <td>funny</td>\n",
       "      <td>1</td>\n",
       "      <td>1</td>\n",
       "      <td>0</td>\n",
       "      <td>2014-09</td>\n",
       "      <td>2014-09-12 15:27:03</td>\n",
       "      <td>My son's message to the president.</td>\n",
       "    </tr>\n",
       "    <tr>\n",
       "      <th>21</th>\n",
       "      <td>1</td>\n",
       "      <td>this^</td>\n",
       "      <td>The_Real_Tang</td>\n",
       "      <td>leagueoflegends</td>\n",
       "      <td>2</td>\n",
       "      <td>2</td>\n",
       "      <td>0</td>\n",
       "      <td>2015-08</td>\n",
       "      <td>2015-08-08 09:11:02</td>\n",
       "      <td>Pretty sure the morde fan base is smaller</td>\n",
       "    </tr>\n",
       "    <tr>\n",
       "      <th>22</th>\n",
       "      <td>0</td>\n",
       "      <td>$10 says this is some old senior citizen with ...</td>\n",
       "      <td>PoopyFingers5000</td>\n",
       "      <td>pics</td>\n",
       "      <td>2</td>\n",
       "      <td>2</td>\n",
       "      <td>0</td>\n",
       "      <td>2015-05</td>\n",
       "      <td>2015-05-23 06:41:11</td>\n",
       "      <td>This was sent to a family in my home town on L...</td>\n",
       "    </tr>\n",
       "    <tr>\n",
       "      <th>23</th>\n",
       "      <td>1</td>\n",
       "      <td>She's no longer capable of giving consent once...</td>\n",
       "      <td>_DownTownBrown_</td>\n",
       "      <td>AdviceAnimals</td>\n",
       "      <td>4</td>\n",
       "      <td>4</td>\n",
       "      <td>0</td>\n",
       "      <td>2014-10</td>\n",
       "      <td>2014-10-31 22:39:15</td>\n",
       "      <td>It's not.</td>\n",
       "    </tr>\n",
       "    <tr>\n",
       "      <th>24</th>\n",
       "      <td>1</td>\n",
       "      <td>I think he's joking and forgot the</td>\n",
       "      <td>IranianGuy</td>\n",
       "      <td>hockey</td>\n",
       "      <td>3</td>\n",
       "      <td>3</td>\n",
       "      <td>0</td>\n",
       "      <td>2013-11</td>\n",
       "      <td>2013-11-22 07:48:45</td>\n",
       "      <td>I hope you're joking... the first goal was cle...</td>\n",
       "    </tr>\n",
       "    <tr>\n",
       "      <th>25</th>\n",
       "      <td>1</td>\n",
       "      <td>ya, cause thats probably the issue....</td>\n",
       "      <td>chooch138</td>\n",
       "      <td>GlobalOffensive</td>\n",
       "      <td>1</td>\n",
       "      <td>1</td>\n",
       "      <td>0</td>\n",
       "      <td>2016-01</td>\n",
       "      <td>2016-01-19 20:47:43</td>\n",
       "      <td>Okay, if not, I will have to reinstall my game...</td>\n",
       "    </tr>\n",
       "    <tr>\n",
       "      <th>26</th>\n",
       "      <td>0</td>\n",
       "      <td>I don't think there's anything wrong with it i...</td>\n",
       "      <td>ProbablyNotABalrog</td>\n",
       "      <td>fatlogic</td>\n",
       "      <td>11</td>\n",
       "      <td>11</td>\n",
       "      <td>0</td>\n",
       "      <td>2016-04</td>\n",
       "      <td>2016-04-17 12:03:04</td>\n",
       "      <td>Yes but genuine question, what's wrong with su...</td>\n",
       "    </tr>\n",
       "    <tr>\n",
       "      <th>27</th>\n",
       "      <td>1</td>\n",
       "      <td>Equal opportunities creep, yay!</td>\n",
       "      <td>Asdwolf</td>\n",
       "      <td>creepyPMs</td>\n",
       "      <td>2</td>\n",
       "      <td>2</td>\n",
       "      <td>0</td>\n",
       "      <td>2014-05</td>\n",
       "      <td>2014-05-14 14:03:35</td>\n",
       "      <td>K sry bro hmu later I'm not 2 picky</td>\n",
       "    </tr>\n",
       "    <tr>\n",
       "      <th>28</th>\n",
       "      <td>0</td>\n",
       "      <td>Willing to sacrifice my love.</td>\n",
       "      <td>IIJOSEPHXII</td>\n",
       "      <td>watchpeopledie</td>\n",
       "      <td>3</td>\n",
       "      <td>3</td>\n",
       "      <td>0</td>\n",
       "      <td>2015-11</td>\n",
       "      <td>2015-11-21 16:56:27</td>\n",
       "      <td>Cold as ice.</td>\n",
       "    </tr>\n",
       "    <tr>\n",
       "      <th>29</th>\n",
       "      <td>1</td>\n",
       "      <td>I'm sure they could throw some machine learnin...</td>\n",
       "      <td>mythofechelon</td>\n",
       "      <td>softwaregore</td>\n",
       "      <td>6</td>\n",
       "      <td>6</td>\n",
       "      <td>0</td>\n",
       "      <td>2016-09</td>\n",
       "      <td>2016-09-29 12:16:33</td>\n",
       "      <td>I dunno if I'd say that it's \"gore\". Imagine h...</td>\n",
       "    </tr>\n",
       "    <tr>\n",
       "      <th>...</th>\n",
       "      <td>...</td>\n",
       "      <td>...</td>\n",
       "      <td>...</td>\n",
       "      <td>...</td>\n",
       "      <td>...</td>\n",
       "      <td>...</td>\n",
       "      <td>...</td>\n",
       "      <td>...</td>\n",
       "      <td>...</td>\n",
       "      <td>...</td>\n",
       "    </tr>\n",
       "    <tr>\n",
       "      <th>49970</th>\n",
       "      <td>1</td>\n",
       "      <td>It's OK I'm sure the media will pick this stor...</td>\n",
       "      <td>ThatBadGuy</td>\n",
       "      <td>politics</td>\n",
       "      <td>0</td>\n",
       "      <td>0</td>\n",
       "      <td>0</td>\n",
       "      <td>2016-04</td>\n",
       "      <td>2016-04-26 18:51:10</td>\n",
       "      <td>Clinton's Internet Supporters, Allegedly Using...</td>\n",
       "    </tr>\n",
       "    <tr>\n",
       "      <th>49971</th>\n",
       "      <td>0</td>\n",
       "      <td>I don't disagree, and I would absolutely never...</td>\n",
       "      <td>Charliekratos</td>\n",
       "      <td>politics</td>\n",
       "      <td>-3</td>\n",
       "      <td>-3</td>\n",
       "      <td>0</td>\n",
       "      <td>2016-09</td>\n",
       "      <td>2016-09-29 17:21:41</td>\n",
       "      <td>Trump's policies will hurt us more than Hillar...</td>\n",
       "    </tr>\n",
       "    <tr>\n",
       "      <th>49972</th>\n",
       "      <td>1</td>\n",
       "      <td>Because Colorado flags haven't been trendy sin...</td>\n",
       "      <td>EntMoose</td>\n",
       "      <td>ElectricForest</td>\n",
       "      <td>1</td>\n",
       "      <td>1</td>\n",
       "      <td>0</td>\n",
       "      <td>2015-12</td>\n",
       "      <td>2015-12-16 07:41:41</td>\n",
       "      <td>From what I see on here, see on flags at the f...</td>\n",
       "    </tr>\n",
       "    <tr>\n",
       "      <th>49973</th>\n",
       "      <td>0</td>\n",
       "      <td>Nigga, please.</td>\n",
       "      <td>GregButcher</td>\n",
       "      <td>MillerPlanetside</td>\n",
       "      <td>1</td>\n",
       "      <td>1</td>\n",
       "      <td>0</td>\n",
       "      <td>2015-08</td>\n",
       "      <td>2015-08-06 08:19:54</td>\n",
       "      <td>FINALLY some devs admitting some VS stuff was ...</td>\n",
       "    </tr>\n",
       "    <tr>\n",
       "      <th>49974</th>\n",
       "      <td>0</td>\n",
       "      <td>US congress is the biggest joke on planet earth.</td>\n",
       "      <td>pointmanzero</td>\n",
       "      <td>spacex</td>\n",
       "      <td>47</td>\n",
       "      <td>47</td>\n",
       "      <td>0</td>\n",
       "      <td>2016-05</td>\n",
       "      <td>2016-05-17 14:52:54</td>\n",
       "      <td>The White House strongly objects to restrictio...</td>\n",
       "    </tr>\n",
       "    <tr>\n",
       "      <th>49975</th>\n",
       "      <td>0</td>\n",
       "      <td>Weren't the San Bernardino shooters referred t...</td>\n",
       "      <td>Handsome_Hunk</td>\n",
       "      <td>politics</td>\n",
       "      <td>3</td>\n",
       "      <td>3</td>\n",
       "      <td>0</td>\n",
       "      <td>2016-03</td>\n",
       "      <td>2016-03-28 19:42:48</td>\n",
       "      <td>So we know he's a right-wing nutjob. If he had...</td>\n",
       "    </tr>\n",
       "    <tr>\n",
       "      <th>49976</th>\n",
       "      <td>0</td>\n",
       "      <td>Ahhhh I see...haha gotta try that out with my pup</td>\n",
       "      <td>Emmanurl</td>\n",
       "      <td>GSP_Photos</td>\n",
       "      <td>1</td>\n",
       "      <td>-1</td>\n",
       "      <td>-1</td>\n",
       "      <td>2016-12</td>\n",
       "      <td>2016-12-17 20:26:02</td>\n",
       "      <td>We did 1.5 hours of high intensity fetch first...</td>\n",
       "    </tr>\n",
       "    <tr>\n",
       "      <th>49977</th>\n",
       "      <td>1</td>\n",
       "      <td>well that just cleared a lot of paranoia, time...</td>\n",
       "      <td>SakanaAtlas</td>\n",
       "      <td>confession</td>\n",
       "      <td>1</td>\n",
       "      <td>1</td>\n",
       "      <td>0</td>\n",
       "      <td>2016-06</td>\n",
       "      <td>2016-06-08 04:12:20</td>\n",
       "      <td>No it doesn't. Unless there's an electronic ta...</td>\n",
       "    </tr>\n",
       "    <tr>\n",
       "      <th>49978</th>\n",
       "      <td>1</td>\n",
       "      <td>Nah, it was my best wank ever</td>\n",
       "      <td>mriipredator</td>\n",
       "      <td>Eminem</td>\n",
       "      <td>1</td>\n",
       "      <td>1</td>\n",
       "      <td>0</td>\n",
       "      <td>2015-10</td>\n",
       "      <td>2015-10-01 16:22:41</td>\n",
       "      <td>Does anyone else feel really awkward watching ...</td>\n",
       "    </tr>\n",
       "    <tr>\n",
       "      <th>49979</th>\n",
       "      <td>0</td>\n",
       "      <td>I've tried posting neonazi tumblr shit on a le...</td>\n",
       "      <td>ArchangelleDovakin</td>\n",
       "      <td>SubredditDrama</td>\n",
       "      <td>5</td>\n",
       "      <td>5</td>\n",
       "      <td>0</td>\n",
       "      <td>2015-07</td>\n",
       "      <td>2015-07-22 14:46:37</td>\n",
       "      <td>yep, reading TiA's sidebar yesterday, all indi...</td>\n",
       "    </tr>\n",
       "    <tr>\n",
       "      <th>49980</th>\n",
       "      <td>1</td>\n",
       "      <td>Whoa whoa whoa... get your grammatical facts a...</td>\n",
       "      <td>bwleung89</td>\n",
       "      <td>pussypassdenied</td>\n",
       "      <td>31</td>\n",
       "      <td>-1</td>\n",
       "      <td>-1</td>\n",
       "      <td>2016-12</td>\n",
       "      <td>2016-12-08 03:15:21</td>\n",
       "      <td>Stay in your lane</td>\n",
       "    </tr>\n",
       "    <tr>\n",
       "      <th>49981</th>\n",
       "      <td>1</td>\n",
       "      <td>If it's so light how can it sink?</td>\n",
       "      <td>Psychaotic20</td>\n",
       "      <td>TheDepthsBelow</td>\n",
       "      <td>1</td>\n",
       "      <td>-1</td>\n",
       "      <td>-1</td>\n",
       "      <td>2016-10</td>\n",
       "      <td>2016-10-14 23:05:45</td>\n",
       "      <td>\"Light\" tank on the deck of the San Francisco ...</td>\n",
       "    </tr>\n",
       "    <tr>\n",
       "      <th>49982</th>\n",
       "      <td>1</td>\n",
       "      <td>\"My ol' pa used to beat my ass bloody with a g...</td>\n",
       "      <td>Darkarcher117</td>\n",
       "      <td>battlestations</td>\n",
       "      <td>6</td>\n",
       "      <td>6</td>\n",
       "      <td>0</td>\n",
       "      <td>2015-08</td>\n",
       "      <td>2015-08-07 01:52:16</td>\n",
       "      <td>People don't understand that a parent could ra...</td>\n",
       "    </tr>\n",
       "    <tr>\n",
       "      <th>49983</th>\n",
       "      <td>1</td>\n",
       "      <td>sounds like a keeper.</td>\n",
       "      <td>weezermc78</td>\n",
       "      <td>creepyPMs</td>\n",
       "      <td>2</td>\n",
       "      <td>2</td>\n",
       "      <td>0</td>\n",
       "      <td>2013-06</td>\n",
       "      <td>2013-06-06 04:51:07</td>\n",
       "      <td>This was sent to a friend of mine. I...I can't...</td>\n",
       "    </tr>\n",
       "    <tr>\n",
       "      <th>49984</th>\n",
       "      <td>1</td>\n",
       "      <td>But *I'm* the victim!</td>\n",
       "      <td>captainwacky91</td>\n",
       "      <td>tf2</td>\n",
       "      <td>9</td>\n",
       "      <td>9</td>\n",
       "      <td>0</td>\n",
       "      <td>2016-06</td>\n",
       "      <td>2016-06-04 16:31:13</td>\n",
       "      <td>Work on your reading comprehension--I made a d...</td>\n",
       "    </tr>\n",
       "    <tr>\n",
       "      <th>49985</th>\n",
       "      <td>1</td>\n",
       "      <td>Yeah, songs by two of the most influential pop...</td>\n",
       "      <td>Snoopy_Hates_Germans</td>\n",
       "      <td>Music</td>\n",
       "      <td>3</td>\n",
       "      <td>3</td>\n",
       "      <td>0</td>\n",
       "      <td>2015-08</td>\n",
       "      <td>2015-08-11 12:30:52</td>\n",
       "      <td>Putting All you Need Us Love and When Doves Cr...</td>\n",
       "    </tr>\n",
       "    <tr>\n",
       "      <th>49986</th>\n",
       "      <td>1</td>\n",
       "      <td>Filing a noise complaint out of spite... that'...</td>\n",
       "      <td>BudDePo</td>\n",
       "      <td>TwoXChromosomes</td>\n",
       "      <td>1</td>\n",
       "      <td>1</td>\n",
       "      <td>0</td>\n",
       "      <td>2016-01</td>\n",
       "      <td>2016-01-06 22:26:53</td>\n",
       "      <td>Sounds like a noise complaint needs filing</td>\n",
       "    </tr>\n",
       "    <tr>\n",
       "      <th>49987</th>\n",
       "      <td>1</td>\n",
       "      <td>This is a clearly distracted, bothered, and un...</td>\n",
       "      <td>AliBabasCamel</td>\n",
       "      <td>Patriots</td>\n",
       "      <td>18</td>\n",
       "      <td>18</td>\n",
       "      <td>0</td>\n",
       "      <td>2015-01</td>\n",
       "      <td>2015-01-23 20:10:05</td>\n",
       "      <td>Edelman remembers the first time he met Tom</td>\n",
       "    </tr>\n",
       "    <tr>\n",
       "      <th>49988</th>\n",
       "      <td>1</td>\n",
       "      <td>You sound like you'd be a really fun dad...</td>\n",
       "      <td>Arcon1337</td>\n",
       "      <td>gaming</td>\n",
       "      <td>39</td>\n",
       "      <td>39</td>\n",
       "      <td>0</td>\n",
       "      <td>2012-08</td>\n",
       "      <td>2012-08-17 22:35:10</td>\n",
       "      <td>As it should be. I have a decent collection an...</td>\n",
       "    </tr>\n",
       "    <tr>\n",
       "      <th>49989</th>\n",
       "      <td>0</td>\n",
       "      <td>That poor small Asian woman :(.</td>\n",
       "      <td>Butt_Bugles_Beta</td>\n",
       "      <td>fatlogic</td>\n",
       "      <td>19</td>\n",
       "      <td>19</td>\n",
       "      <td>0</td>\n",
       "      <td>2014-05</td>\n",
       "      <td>2014-05-23 14:43:22</td>\n",
       "      <td>Reposted with better title. But if 3/4 you nee...</td>\n",
       "    </tr>\n",
       "    <tr>\n",
       "      <th>49990</th>\n",
       "      <td>1</td>\n",
       "      <td>But, yeah, raising taxes won't have a negative...</td>\n",
       "      <td>The_Dok</td>\n",
       "      <td>Libertarian</td>\n",
       "      <td>2</td>\n",
       "      <td>2</td>\n",
       "      <td>0</td>\n",
       "      <td>2012-09</td>\n",
       "      <td>2012-09-27 16:26:28</td>\n",
       "      <td>Fewer US CEOs Planning to Expand, Hire due to ...</td>\n",
       "    </tr>\n",
       "    <tr>\n",
       "      <th>49991</th>\n",
       "      <td>0</td>\n",
       "      <td>The real surprise here is that FYE is still in...</td>\n",
       "      <td>Brandonbento10</td>\n",
       "      <td>SquaredCircle</td>\n",
       "      <td>42</td>\n",
       "      <td>42</td>\n",
       "      <td>0</td>\n",
       "      <td>2016-07</td>\n",
       "      <td>2016-07-21 21:22:01</td>\n",
       "      <td>Actual Booty-O Cereal are available for pre-or...</td>\n",
       "    </tr>\n",
       "    <tr>\n",
       "      <th>49992</th>\n",
       "      <td>1</td>\n",
       "      <td>Yeah google is well known for their good priva...</td>\n",
       "      <td>McMasilmof</td>\n",
       "      <td>worldnews</td>\n",
       "      <td>11</td>\n",
       "      <td>11</td>\n",
       "      <td>0</td>\n",
       "      <td>2016-09</td>\n",
       "      <td>2016-09-27 16:48:14</td>\n",
       "      <td>Come on Germany, do yourself a favor and Ban F...</td>\n",
       "    </tr>\n",
       "    <tr>\n",
       "      <th>49993</th>\n",
       "      <td>1</td>\n",
       "      <td>Because people never paraphrase long articles ...</td>\n",
       "      <td>lemonshakeup</td>\n",
       "      <td>GlobalOffensive</td>\n",
       "      <td>0</td>\n",
       "      <td>0</td>\n",
       "      <td>0</td>\n",
       "      <td>2015-09</td>\n",
       "      <td>2015-09-24 00:34:52</td>\n",
       "      <td>Or you know, you could just read the article</td>\n",
       "    </tr>\n",
       "    <tr>\n",
       "      <th>49994</th>\n",
       "      <td>1</td>\n",
       "      <td>They just wanted to save the traditional Chris...</td>\n",
       "      <td>Wahngrok</td>\n",
       "      <td>germany</td>\n",
       "      <td>12</td>\n",
       "      <td>12</td>\n",
       "      <td>0</td>\n",
       "      <td>2016-03</td>\n",
       "      <td>2016-03-08 13:36:56</td>\n",
       "      <td>Congo-born priest in Germany quits over racist...</td>\n",
       "    </tr>\n",
       "    <tr>\n",
       "      <th>49995</th>\n",
       "      <td>0</td>\n",
       "      <td>Except the fact that it's the Republicans who'...</td>\n",
       "      <td>rasconjon</td>\n",
       "      <td>space</td>\n",
       "      <td>6</td>\n",
       "      <td>6</td>\n",
       "      <td>0</td>\n",
       "      <td>2015-12</td>\n",
       "      <td>2015-12-16 13:06:42</td>\n",
       "      <td>The democrats have been slashing NASA spending...</td>\n",
       "    </tr>\n",
       "    <tr>\n",
       "      <th>49996</th>\n",
       "      <td>1</td>\n",
       "      <td>Yeah like a les paul</td>\n",
       "      <td>JimiCage</td>\n",
       "      <td>Guitar</td>\n",
       "      <td>0</td>\n",
       "      <td>0</td>\n",
       "      <td>0</td>\n",
       "      <td>2014-11</td>\n",
       "      <td>2014-11-07 21:19:59</td>\n",
       "      <td>If I spent that much money, I'd want the thing...</td>\n",
       "    </tr>\n",
       "    <tr>\n",
       "      <th>49997</th>\n",
       "      <td>1</td>\n",
       "      <td>18 + of course I mean come on, it is rated M a...</td>\n",
       "      <td>SatanicSloths</td>\n",
       "      <td>bloodborne</td>\n",
       "      <td>7</td>\n",
       "      <td>7</td>\n",
       "      <td>0</td>\n",
       "      <td>2015-10</td>\n",
       "      <td>2015-10-15 14:28:50</td>\n",
       "      <td>Age range... Just wondering what sort of ages ...</td>\n",
       "    </tr>\n",
       "    <tr>\n",
       "      <th>49998</th>\n",
       "      <td>0</td>\n",
       "      <td>My mom's friend calls the vacuum the \"electric...</td>\n",
       "      <td>sitah</td>\n",
       "      <td>AskReddit</td>\n",
       "      <td>3</td>\n",
       "      <td>3</td>\n",
       "      <td>0</td>\n",
       "      <td>2016-08</td>\n",
       "      <td>2016-08-20 11:37:19</td>\n",
       "      <td>I called a backhoe a \"vroom-vroom scoopy\" with...</td>\n",
       "    </tr>\n",
       "    <tr>\n",
       "      <th>49999</th>\n",
       "      <td>1</td>\n",
       "      <td>Stop asking questions and go back to the kitch...</td>\n",
       "      <td>furlongxfortnight</td>\n",
       "      <td>reddit.com</td>\n",
       "      <td>12</td>\n",
       "      <td>12</td>\n",
       "      <td>0</td>\n",
       "      <td>2010-11</td>\n",
       "      <td>2010-11-13 11:56:48</td>\n",
       "      <td>Could somebody explain what rampant sexism means?</td>\n",
       "    </tr>\n",
       "  </tbody>\n",
       "</table>\n",
       "<p>49998 rows × 10 columns</p>\n",
       "</div>"
      ],
      "text/plain": [
       "       label                                            comment  \\\n",
       "0          0     Seeing the ad for this movie got me so excited   \n",
       "1          0           He's just doing the Kansas City Shuffle.   \n",
       "2          1  But how will I be constantly up to date on eve...   \n",
       "3          0                           10/10 Would watch again.   \n",
       "4          1                                    Was never wrong   \n",
       "5          0  I think we found one of the only people thinki...   \n",
       "6          1      He's got a much more lethal tool - the bible.   \n",
       "7          0    TIL the President doesn't cast his vote in D.C.   \n",
       "8          1                Too late, you already triggered me.   \n",
       "9          0  Quitting is often not an option: people have t...   \n",
       "10         1          But it doesn't count if they left Turkey!   \n",
       "11         1  OMG someone is able to put newlines in a level...   \n",
       "12         1               But she's a strong independent woman   \n",
       "13         1  Yeah gay guys definitely care about penis size...   \n",
       "14         1  Yet another isolated incident, a few bad apple...   \n",
       "15         0  LEt's think we're being clever in \"ponting out...   \n",
       "16         1  I see the changes from the first half of the s...   \n",
       "17         1                              God the Elin are sexy   \n",
       "18         1  If you look at the small print, the NYT +6 for...   \n",
       "19         0      Wow, Carl has had a *legendary* growth spurt.   \n",
       "20         0                                  Listen Up America   \n",
       "21         1                                              this^   \n",
       "22         0  $10 says this is some old senior citizen with ...   \n",
       "23         1  She's no longer capable of giving consent once...   \n",
       "24         1                 I think he's joking and forgot the   \n",
       "25         1             ya, cause thats probably the issue....   \n",
       "26         0  I don't think there's anything wrong with it i...   \n",
       "27         1                    Equal opportunities creep, yay!   \n",
       "28         0                      Willing to sacrifice my love.   \n",
       "29         1  I'm sure they could throw some machine learnin...   \n",
       "...      ...                                                ...   \n",
       "49970      1  It's OK I'm sure the media will pick this stor...   \n",
       "49971      0  I don't disagree, and I would absolutely never...   \n",
       "49972      1  Because Colorado flags haven't been trendy sin...   \n",
       "49973      0                                     Nigga, please.   \n",
       "49974      0   US congress is the biggest joke on planet earth.   \n",
       "49975      0  Weren't the San Bernardino shooters referred t...   \n",
       "49976      0  Ahhhh I see...haha gotta try that out with my pup   \n",
       "49977      1  well that just cleared a lot of paranoia, time...   \n",
       "49978      1                      Nah, it was my best wank ever   \n",
       "49979      0  I've tried posting neonazi tumblr shit on a le...   \n",
       "49980      1  Whoa whoa whoa... get your grammatical facts a...   \n",
       "49981      1                  If it's so light how can it sink?   \n",
       "49982      1  \"My ol' pa used to beat my ass bloody with a g...   \n",
       "49983      1                              sounds like a keeper.   \n",
       "49984      1                              But *I'm* the victim!   \n",
       "49985      1  Yeah, songs by two of the most influential pop...   \n",
       "49986      1  Filing a noise complaint out of spite... that'...   \n",
       "49987      1  This is a clearly distracted, bothered, and un...   \n",
       "49988      1        You sound like you'd be a really fun dad...   \n",
       "49989      0                    That poor small Asian woman :(.   \n",
       "49990      1  But, yeah, raising taxes won't have a negative...   \n",
       "49991      0  The real surprise here is that FYE is still in...   \n",
       "49992      1  Yeah google is well known for their good priva...   \n",
       "49993      1  Because people never paraphrase long articles ...   \n",
       "49994      1  They just wanted to save the traditional Chris...   \n",
       "49995      0  Except the fact that it's the Republicans who'...   \n",
       "49996      1                               Yeah like a les paul   \n",
       "49997      1  18 + of course I mean come on, it is rated M a...   \n",
       "49998      0  My mom's friend calls the vacuum the \"electric...   \n",
       "49999      1  Stop asking questions and go back to the kitch...   \n",
       "\n",
       "                     author             subreddit  score  ups  downs     date  \\\n",
       "0               czervick212                batman      1    1      0  2016-03   \n",
       "1                DeLuca2400             AskReddit      2    2      0  2015-08   \n",
       "2                 Kick_Kass              baseball      3    3      0  2013-12   \n",
       "3                  Cipher70        Showerthoughts      1    1      0  2016-02   \n",
       "4                 natlouwet             AskReddit      0    0      0  2015-07   \n",
       "5         Sterling__Archer_                  news     -4   -4      0  2015-08   \n",
       "6          SnackieOnasis416               toronto      1    1      0  2016-09   \n",
       "7            Shell-of-Light        hillaryclinton     10   -1     -1  2016-10   \n",
       "8         DankrudeSandstorm        TumblrInAction     37   37      0  2015-07   \n",
       "9                  daimoneu             Anarchism      4    4      0  2012-07   \n",
       "10                 3dg3c4s3             worldnews     -5   -5      0  2015-11   \n",
       "11                  mgostIH          geometrydash      2    2      0  2016-09   \n",
       "12           DrScientist812             AskReddit      1    1      0  2016-08   \n",
       "13             Arthur_Dayne                   sex      2    2      0  2013-12   \n",
       "14               lemurlemur                videos     12   12      0  2011-06   \n",
       "15              Biffingston        SubredditDrama     12   12      0  2013-08   \n",
       "16          ChrisKamanMyEye                   nba      2    2      0  2016-02   \n",
       "17         Sovaar_Paagoliik                gaming      1    1      0  2016-06   \n",
       "18               jlalbrecht  Kossacks_for_Sanders      3    3      0  2016-05   \n",
       "19           crack_a_toe_ah             AskReddit    141   -1     -1  2016-11   \n",
       "20                   Vozahh                 funny      1    1      0  2014-09   \n",
       "21            The_Real_Tang       leagueoflegends      2    2      0  2015-08   \n",
       "22         PoopyFingers5000                  pics      2    2      0  2015-05   \n",
       "23          _DownTownBrown_         AdviceAnimals      4    4      0  2014-10   \n",
       "24               IranianGuy                hockey      3    3      0  2013-11   \n",
       "25                chooch138       GlobalOffensive      1    1      0  2016-01   \n",
       "26       ProbablyNotABalrog              fatlogic     11   11      0  2016-04   \n",
       "27                  Asdwolf             creepyPMs      2    2      0  2014-05   \n",
       "28              IIJOSEPHXII        watchpeopledie      3    3      0  2015-11   \n",
       "29            mythofechelon          softwaregore      6    6      0  2016-09   \n",
       "...                     ...                   ...    ...  ...    ...      ...   \n",
       "49970            ThatBadGuy              politics      0    0      0  2016-04   \n",
       "49971         Charliekratos              politics     -3   -3      0  2016-09   \n",
       "49972              EntMoose        ElectricForest      1    1      0  2015-12   \n",
       "49973           GregButcher      MillerPlanetside      1    1      0  2015-08   \n",
       "49974          pointmanzero                spacex     47   47      0  2016-05   \n",
       "49975         Handsome_Hunk              politics      3    3      0  2016-03   \n",
       "49976              Emmanurl            GSP_Photos      1   -1     -1  2016-12   \n",
       "49977           SakanaAtlas            confession      1    1      0  2016-06   \n",
       "49978          mriipredator                Eminem      1    1      0  2015-10   \n",
       "49979    ArchangelleDovakin        SubredditDrama      5    5      0  2015-07   \n",
       "49980             bwleung89       pussypassdenied     31   -1     -1  2016-12   \n",
       "49981          Psychaotic20        TheDepthsBelow      1   -1     -1  2016-10   \n",
       "49982         Darkarcher117        battlestations      6    6      0  2015-08   \n",
       "49983            weezermc78             creepyPMs      2    2      0  2013-06   \n",
       "49984        captainwacky91                   tf2      9    9      0  2016-06   \n",
       "49985  Snoopy_Hates_Germans                 Music      3    3      0  2015-08   \n",
       "49986               BudDePo       TwoXChromosomes      1    1      0  2016-01   \n",
       "49987         AliBabasCamel              Patriots     18   18      0  2015-01   \n",
       "49988             Arcon1337                gaming     39   39      0  2012-08   \n",
       "49989      Butt_Bugles_Beta              fatlogic     19   19      0  2014-05   \n",
       "49990               The_Dok           Libertarian      2    2      0  2012-09   \n",
       "49991        Brandonbento10         SquaredCircle     42   42      0  2016-07   \n",
       "49992            McMasilmof             worldnews     11   11      0  2016-09   \n",
       "49993          lemonshakeup       GlobalOffensive      0    0      0  2015-09   \n",
       "49994              Wahngrok               germany     12   12      0  2016-03   \n",
       "49995             rasconjon                 space      6    6      0  2015-12   \n",
       "49996              JimiCage                Guitar      0    0      0  2014-11   \n",
       "49997         SatanicSloths            bloodborne      7    7      0  2015-10   \n",
       "49998                 sitah             AskReddit      3    3      0  2016-08   \n",
       "49999     furlongxfortnight            reddit.com     12   12      0  2010-11   \n",
       "\n",
       "               created_utc                                     parent_comment  \n",
       "0      2016-03-25 12:15:29     All the suits in the Lego Batman Movie trailer  \n",
       "1      2015-08-21 18:23:47                                      Josh Harnett.  \n",
       "2      2013-12-14 16:58:02                                 One can only hope.  \n",
       "3      2016-02-15 16:24:11  Deadpool should have leaked a fake version of ...  \n",
       "4      2015-07-24 01:37:18  What does the opposite sex do you wish your ge...  \n",
       "5      2015-08-06 02:53:10                Guys I found the cop in this thread  \n",
       "6      2016-09-30 07:59:17  This man speaks the truth. Can we please give ...  \n",
       "7      2016-10-08 02:05:53    Obama casts early ballot for Clinton in Chicago  \n",
       "8      2015-07-06 16:04:27  Eat, purge, repeat.* *But don't, Bulimia is ba...  \n",
       "9      2012-07-31 15:57:05             Safe word for wage labor is, \"I quit!\"  \n",
       "10     2015-11-25 05:05:09  Everyone already knew this. The plane flew int...  \n",
       "11     2016-09-11 11:31:54                                 GDTested Is Back?!  \n",
       "12     2016-08-20 16:34:44                                   Melissa McCarthy  \n",
       "13     2013-12-25 20:54:18  I think I'd be better off choosing to be gay b...  \n",
       "14     2011-06-07 14:28:25  A police officer smashed this man's phone to p...  \n",
       "15     2013-08-29 23:34:08        Let's rehash this argument in SRD comments!  \n",
       "16     2016-02-20 06:11:56  Mark Medina on Twitter: \"Byron said that D'Ang...  \n",
       "17     2016-06-19 02:10:19  The best (or worst) part of all this is that t...  \n",
       "18     2016-05-23 06:31:39  In fact RR ha Trump +5, NYT has Clinton +6. Qu...  \n",
       "19     2016-11-03 16:31:29  Definitely not 5 years. Judith is only 1ish. W...  \n",
       "20     2014-09-12 15:27:03                 My son's message to the president.  \n",
       "21     2015-08-08 09:11:02          Pretty sure the morde fan base is smaller  \n",
       "22     2015-05-23 06:41:11  This was sent to a family in my home town on L...  \n",
       "23     2014-10-31 22:39:15                                          It's not.  \n",
       "24     2013-11-22 07:48:45  I hope you're joking... the first goal was cle...  \n",
       "25     2016-01-19 20:47:43  Okay, if not, I will have to reinstall my game...  \n",
       "26     2016-04-17 12:03:04  Yes but genuine question, what's wrong with su...  \n",
       "27     2014-05-14 14:03:35                K sry bro hmu later I'm not 2 picky  \n",
       "28     2015-11-21 16:56:27                                       Cold as ice.  \n",
       "29     2016-09-29 12:16:33  I dunno if I'd say that it's \"gore\". Imagine h...  \n",
       "...                    ...                                                ...  \n",
       "49970  2016-04-26 18:51:10  Clinton's Internet Supporters, Allegedly Using...  \n",
       "49971  2016-09-29 17:21:41  Trump's policies will hurt us more than Hillar...  \n",
       "49972  2015-12-16 07:41:41  From what I see on here, see on flags at the f...  \n",
       "49973  2015-08-06 08:19:54  FINALLY some devs admitting some VS stuff was ...  \n",
       "49974  2016-05-17 14:52:54  The White House strongly objects to restrictio...  \n",
       "49975  2016-03-28 19:42:48  So we know he's a right-wing nutjob. If he had...  \n",
       "49976  2016-12-17 20:26:02  We did 1.5 hours of high intensity fetch first...  \n",
       "49977  2016-06-08 04:12:20  No it doesn't. Unless there's an electronic ta...  \n",
       "49978  2015-10-01 16:22:41  Does anyone else feel really awkward watching ...  \n",
       "49979  2015-07-22 14:46:37  yep, reading TiA's sidebar yesterday, all indi...  \n",
       "49980  2016-12-08 03:15:21                                  Stay in your lane  \n",
       "49981  2016-10-14 23:05:45  \"Light\" tank on the deck of the San Francisco ...  \n",
       "49982  2015-08-07 01:52:16  People don't understand that a parent could ra...  \n",
       "49983  2013-06-06 04:51:07  This was sent to a friend of mine. I...I can't...  \n",
       "49984  2016-06-04 16:31:13  Work on your reading comprehension--I made a d...  \n",
       "49985  2015-08-11 12:30:52  Putting All you Need Us Love and When Doves Cr...  \n",
       "49986  2016-01-06 22:26:53         Sounds like a noise complaint needs filing  \n",
       "49987  2015-01-23 20:10:05        Edelman remembers the first time he met Tom  \n",
       "49988  2012-08-17 22:35:10  As it should be. I have a decent collection an...  \n",
       "49989  2014-05-23 14:43:22  Reposted with better title. But if 3/4 you nee...  \n",
       "49990  2012-09-27 16:26:28  Fewer US CEOs Planning to Expand, Hire due to ...  \n",
       "49991  2016-07-21 21:22:01  Actual Booty-O Cereal are available for pre-or...  \n",
       "49992  2016-09-27 16:48:14  Come on Germany, do yourself a favor and Ban F...  \n",
       "49993  2015-09-24 00:34:52       Or you know, you could just read the article  \n",
       "49994  2016-03-08 13:36:56  Congo-born priest in Germany quits over racist...  \n",
       "49995  2015-12-16 13:06:42  The democrats have been slashing NASA spending...  \n",
       "49996  2014-11-07 21:19:59  If I spent that much money, I'd want the thing...  \n",
       "49997  2015-10-15 14:28:50  Age range... Just wondering what sort of ages ...  \n",
       "49998  2016-08-20 11:37:19  I called a backhoe a \"vroom-vroom scoopy\" with...  \n",
       "49999  2010-11-13 11:56:48  Could somebody explain what rampant sexism means?  \n",
       "\n",
       "[49998 rows x 10 columns]"
      ]
     },
     "execution_count": 270,
     "metadata": {},
     "output_type": "execute_result"
    }
   ],
   "source": [
    "df.dropna(axis = 0,how='any')"
   ]
  },
  {
   "cell_type": "code",
   "execution_count": 271,
   "metadata": {},
   "outputs": [
    {
     "name": "stdout",
     "output_type": "stream",
     "text": [
      "50000\n"
     ]
    }
   ],
   "source": [
    "print(len(df))"
   ]
  },
  {
   "cell_type": "code",
   "execution_count": 272,
   "metadata": {},
   "outputs": [
    {
     "name": "stdout",
     "output_type": "stream",
     "text": [
      "label             False\n",
      "comment            True\n",
      "author            False\n",
      "subreddit         False\n",
      "score             False\n",
      "ups               False\n",
      "downs             False\n",
      "date              False\n",
      "created_utc       False\n",
      "parent_comment    False\n",
      "dtype: bool\n"
     ]
    }
   ],
   "source": [
    "print(df.isnull().any(axis = 0))"
   ]
  },
  {
   "cell_type": "markdown",
   "metadata": {},
   "source": [
    "**The data above indicates that there are some null values amongst the comments. This would interfere with the analysis of the comments.**"
   ]
  },
  {
   "cell_type": "markdown",
   "metadata": {},
   "source": [
    "## Figuring out the NaN float values which are causing issues"
   ]
  },
  {
   "cell_type": "code",
   "execution_count": 273,
   "metadata": {},
   "outputs": [
    {
     "name": "stdout",
     "output_type": "stream",
     "text": [
      "50000\n",
      "50000\n"
     ]
    }
   ],
   "source": [
    "features = df['comment']\n",
    "labels = df['label']\n",
    "print(len(features))\n",
    "print(len(labels))"
   ]
  },
  {
   "cell_type": "code",
   "execution_count": 274,
   "metadata": {
    "scrolled": true
   },
   "outputs": [
    {
     "name": "stdout",
     "output_type": "stream",
     "text": [
      "2\n",
      "i_count: 50000\n",
      "bad_indices: [16181, 22922]\n",
      "0.03961801528930664 seconds\n"
     ]
    }
   ],
   "source": [
    "start = time.time()\n",
    "\n",
    "counter = 0\n",
    "i_count = 0\n",
    "bad_indices = []\n",
    "\n",
    "for i,string in enumerate(features):\n",
    "    try:\n",
    "        if isinstance(string, float):\n",
    "            counter += 1\n",
    "            bad_indices.append(i_count)\n",
    "    except:\n",
    "        pass\n",
    "    i_count += 1\n",
    "\n",
    "print(counter)\n",
    "print(\"i_count:\", i_count)\n",
    "print(\"bad_indices:\", bad_indices)\n",
    "\n",
    "end = time.time()\n",
    "time_elapsed = end-start\n",
    "print(time_elapsed, \"seconds\")"
   ]
  },
  {
   "cell_type": "code",
   "execution_count": 275,
   "metadata": {},
   "outputs": [
    {
     "name": "stdout",
     "output_type": "stream",
     "text": [
      "50000\n"
     ]
    }
   ],
   "source": [
    "print(len(df))"
   ]
  },
  {
   "cell_type": "code",
   "execution_count": 276,
   "metadata": {},
   "outputs": [
    {
     "name": "stdout",
     "output_type": "stream",
     "text": [
      "49998\n"
     ]
    }
   ],
   "source": [
    "# Drop the rows that contain unusable values (float values in this case) \n",
    "for b in bad_indices:\n",
    "    df = df.drop([b])\n",
    "print(len(df))"
   ]
  },
  {
   "cell_type": "code",
   "execution_count": 277,
   "metadata": {},
   "outputs": [
    {
     "name": "stdout",
     "output_type": "stream",
     "text": [
      "49998\n"
     ]
    }
   ],
   "source": [
    "# df now has the dropped rows!\n",
    "print(len(df))"
   ]
  },
  {
   "cell_type": "code",
   "execution_count": 278,
   "metadata": {},
   "outputs": [
    {
     "name": "stdout",
     "output_type": "stream",
     "text": [
      "49998\n",
      "49998\n"
     ]
    }
   ],
   "source": [
    "# New features!\n",
    "features = df['comment']\n",
    "labels = df['label']\n",
    "print(len(features))\n",
    "print(len(labels))"
   ]
  },
  {
   "cell_type": "code",
   "execution_count": 279,
   "metadata": {},
   "outputs": [
    {
     "name": "stdout",
     "output_type": "stream",
     "text": [
      "0\n",
      "i_count 49998\n",
      "0.12064409255981445 seconds\n"
     ]
    }
   ],
   "source": [
    "start = time.time()\n",
    "\n",
    "counter = 0\n",
    "i_count = 0\n",
    "for i in df.itertuples():\n",
    "    if not i[2]:\n",
    "        counter += 1\n",
    "        print(counter)\n",
    "    i_count += 1\n",
    "\n",
    "print(counter)\n",
    "print(\"i_count\", i_count)\n",
    "\n",
    "end = time.time()\n",
    "time_elapsed = end-start\n",
    "print(time_elapsed, \"seconds\")"
   ]
  },
  {
   "cell_type": "markdown",
   "metadata": {},
   "source": [
    "# Modeling"
   ]
  },
  {
   "cell_type": "code",
   "execution_count": 280,
   "metadata": {},
   "outputs": [],
   "source": [
    "start = time.time()"
   ]
  },
  {
   "cell_type": "code",
   "execution_count": 281,
   "metadata": {},
   "outputs": [],
   "source": [
    "# Stemming data: reducing a word to its word stem\n",
    "ps = PorterStemmer()\n",
    "\n",
    "features = features.apply(lambda x: x.split())\n",
    "features = features.apply(lambda x : ' '.join([ps.stem(word) for word in x]))"
   ]
  },
  {
   "cell_type": "code",
   "execution_count": 282,
   "metadata": {},
   "outputs": [
    {
     "name": "stdout",
     "output_type": "stream",
     "text": [
      "10.958477020263672 seconds\n"
     ]
    }
   ],
   "source": [
    "end = time.time()\n",
    "time_elapsed = end-start\n",
    "print(time_elapsed, \"seconds\")"
   ]
  },
  {
   "cell_type": "code",
   "execution_count": 283,
   "metadata": {},
   "outputs": [],
   "source": [
    "#TF-IDF: Transoform text to meaningful numerical representation\n",
    "tv = TfidfVectorizer(max_features = 5000)\n",
    "# features = list(features)\n",
    "features = tv.fit_transform(features).toarray()"
   ]
  },
  {
   "cell_type": "code",
   "execution_count": 284,
   "metadata": {},
   "outputs": [],
   "source": [
    "# Training and testing data\n",
    "features_train, features_test, labels_train, labels_test = train_test_split(features, labels, test_size = .05, random_state = 0)"
   ]
  },
  {
   "cell_type": "code",
   "execution_count": 285,
   "metadata": {},
   "outputs": [
    {
     "name": "stdout",
     "output_type": "stream",
     "text": [
      "0.7292938650048423\n",
      "0.672\n"
     ]
    }
   ],
   "source": [
    "# Using linear support vector classifier\n",
    "lsvc = LinearSVC()\n",
    "lsvc.fit(features_train, labels_train)\n",
    "print(lsvc.score(features_train, labels_train))\n",
    "print(lsvc.score(features_test, labels_test))"
   ]
  },
  {
   "cell_type": "code",
   "execution_count": 286,
   "metadata": {},
   "outputs": [
    {
     "name": "stdout",
     "output_type": "stream",
     "text": [
      "0.6738599519979789\n",
      "0.6212\n"
     ]
    }
   ],
   "source": [
    "# Using Gaussian Naive Bayes\n",
    "gnb = GaussianNB()\n",
    "gnb.fit(features_train, labels_train)\n",
    "print(gnb.score(features_train, labels_train))\n",
    "print(gnb.score(features_test, labels_test))"
   ]
  },
  {
   "cell_type": "code",
   "execution_count": 287,
   "metadata": {},
   "outputs": [
    {
     "name": "stderr",
     "output_type": "stream",
     "text": [
      "/Applications/anaconda3/lib/python3.7/site-packages/sklearn/linear_model/logistic.py:432: FutureWarning: Default solver will be changed to 'lbfgs' in 0.22. Specify a solver to silence this warning.\n",
      "  FutureWarning)\n"
     ]
    },
    {
     "name": "stdout",
     "output_type": "stream",
     "text": [
      "0.7191039622720957\n",
      "0.6792\n"
     ]
    }
   ],
   "source": [
    "# Using Logistic Regression\n",
    "lr = LogisticRegression()\n",
    "lr.fit(features_train, labels_train)\n",
    "print(lr.score(features_train, labels_train))\n",
    "print(lr.score(features_test, labels_test))"
   ]
  },
  {
   "cell_type": "code",
   "execution_count": 288,
   "metadata": {},
   "outputs": [
    {
     "name": "stdout",
     "output_type": "stream",
     "text": [
      "0.9666301739020591\n",
      "0.6472\n"
     ]
    }
   ],
   "source": [
    "# Using Random Forest Classification\n",
    "rfc = RandomForestClassifier(n_estimators = 10, random_state = 0)\n",
    "rfc.fit(features_train, labels_train)\n",
    "print(rfc.score(features_train, labels_train))\n",
    "print(rfc.score(features_test, labels_test)) "
   ]
  },
  {
   "cell_type": "markdown",
   "metadata": {},
   "source": [
    "# New Dataset: \"News Headlines\""
   ]
  },
  {
   "cell_type": "code",
   "execution_count": 9,
   "metadata": {},
   "outputs": [],
   "source": [
    "# SOURCE: https://github.com/rishabhmisra/News-Headlines-Dataset-For-Sarcasm-Detection\n",
    "# NOTES - Dataset is much cleaner, less spelling errors, higher modeling scores overall\n",
    "df = pd.read_json(\"Sarcasm_Headlines_Dataset.json\", lines = True)"
   ]
  },
  {
   "cell_type": "code",
   "execution_count": 10,
   "metadata": {},
   "outputs": [
    {
     "data": {
      "text/html": [
       "<div>\n",
       "<style scoped>\n",
       "    .dataframe tbody tr th:only-of-type {\n",
       "        vertical-align: middle;\n",
       "    }\n",
       "\n",
       "    .dataframe tbody tr th {\n",
       "        vertical-align: top;\n",
       "    }\n",
       "\n",
       "    .dataframe thead th {\n",
       "        text-align: right;\n",
       "    }\n",
       "</style>\n",
       "<table border=\"1\" class=\"dataframe\">\n",
       "  <thead>\n",
       "    <tr style=\"text-align: right;\">\n",
       "      <th></th>\n",
       "      <th>article_link</th>\n",
       "      <th>headline</th>\n",
       "      <th>is_sarcastic</th>\n",
       "    </tr>\n",
       "  </thead>\n",
       "  <tbody>\n",
       "    <tr>\n",
       "      <th>0</th>\n",
       "      <td>https://www.theonion.com/thirtysomething-scien...</td>\n",
       "      <td>thirtysomething scientists unveil doomsday clo...</td>\n",
       "      <td>1</td>\n",
       "    </tr>\n",
       "    <tr>\n",
       "      <th>1</th>\n",
       "      <td>https://www.huffingtonpost.com/entry/donna-edw...</td>\n",
       "      <td>dem rep. totally nails why congress is falling...</td>\n",
       "      <td>0</td>\n",
       "    </tr>\n",
       "    <tr>\n",
       "      <th>2</th>\n",
       "      <td>https://www.huffingtonpost.com/entry/eat-your-...</td>\n",
       "      <td>eat your veggies: 9 deliciously different recipes</td>\n",
       "      <td>0</td>\n",
       "    </tr>\n",
       "    <tr>\n",
       "      <th>3</th>\n",
       "      <td>https://local.theonion.com/inclement-weather-p...</td>\n",
       "      <td>inclement weather prevents liar from getting t...</td>\n",
       "      <td>1</td>\n",
       "    </tr>\n",
       "    <tr>\n",
       "      <th>4</th>\n",
       "      <td>https://www.theonion.com/mother-comes-pretty-c...</td>\n",
       "      <td>mother comes pretty close to using word 'strea...</td>\n",
       "      <td>1</td>\n",
       "    </tr>\n",
       "  </tbody>\n",
       "</table>\n",
       "</div>"
      ],
      "text/plain": [
       "                                        article_link  \\\n",
       "0  https://www.theonion.com/thirtysomething-scien...   \n",
       "1  https://www.huffingtonpost.com/entry/donna-edw...   \n",
       "2  https://www.huffingtonpost.com/entry/eat-your-...   \n",
       "3  https://local.theonion.com/inclement-weather-p...   \n",
       "4  https://www.theonion.com/mother-comes-pretty-c...   \n",
       "\n",
       "                                            headline  is_sarcastic  \n",
       "0  thirtysomething scientists unveil doomsday clo...             1  \n",
       "1  dem rep. totally nails why congress is falling...             0  \n",
       "2  eat your veggies: 9 deliciously different recipes             0  \n",
       "3  inclement weather prevents liar from getting t...             1  \n",
       "4  mother comes pretty close to using word 'strea...             1  "
      ]
     },
     "execution_count": 10,
     "metadata": {},
     "output_type": "execute_result"
    }
   ],
   "source": [
    "df.head()"
   ]
  },
  {
   "cell_type": "code",
   "execution_count": 11,
   "metadata": {},
   "outputs": [
    {
     "name": "stdout",
     "output_type": "stream",
     "text": [
      "Number of Headlines: 28619\n"
     ]
    }
   ],
   "source": [
    "print(\"Number of Headlines:\", len(df))"
   ]
  },
  {
   "cell_type": "code",
   "execution_count": 12,
   "metadata": {},
   "outputs": [
    {
     "name": "stdout",
     "output_type": "stream",
     "text": [
      "article_link    False\n",
      "headline        False\n",
      "is_sarcastic    False\n",
      "dtype: bool\n"
     ]
    }
   ],
   "source": [
    "print(df.isnull().any(axis = 0))"
   ]
  },
  {
   "cell_type": "code",
   "execution_count": 15,
   "metadata": {},
   "outputs": [
    {
     "name": "stdout",
     "output_type": "stream",
     "text": [
      "28619\n",
      "28619\n"
     ]
    }
   ],
   "source": [
    "features = df['headline']\n",
    "labels = df['is_sarcastic']\n",
    "print(len(features))\n",
    "print(len(labels))"
   ]
  },
  {
   "cell_type": "markdown",
   "metadata": {},
   "source": [
    "## Modeling with Machine Learning Algorithms"
   ]
  },
  {
   "cell_type": "code",
   "execution_count": 16,
   "metadata": {},
   "outputs": [],
   "source": [
    "# Stemming data: reducing a word to its word stem\n",
    "ps = PorterStemmer()\n",
    "\n",
    "features = features.apply(lambda x: x.split())\n",
    "features = features.apply(lambda x : ' '.join([ps.stem(word) for word in x]))"
   ]
  },
  {
   "cell_type": "code",
   "execution_count": 17,
   "metadata": {},
   "outputs": [],
   "source": [
    "#TF-IDF: Transoform text to meaningful numerical representation\n",
    "tv = TfidfVectorizer(max_features = 5000)\n",
    "# features = list(features)\n",
    "features = tv.fit_transform(features).toarray()"
   ]
  },
  {
   "cell_type": "code",
   "execution_count": 18,
   "metadata": {},
   "outputs": [],
   "source": [
    "# Training and testing data\n",
    "features_train, features_test, labels_train, labels_test = train_test_split(features, labels, test_size = .05, random_state = 0)"
   ]
  },
  {
   "cell_type": "code",
   "execution_count": 19,
   "metadata": {},
   "outputs": [
    {
     "name": "stdout",
     "output_type": "stream",
     "text": [
      "0.9050684125349419\n",
      "0.8218029350104822\n"
     ]
    }
   ],
   "source": [
    "# Using linear support vector classifier\n",
    "lsvc = LinearSVC()\n",
    "lsvc.fit(features_train, labels_train)\n",
    "print(lsvc.score(features_train, labels_train))\n",
    "print(lsvc.score(features_test, labels_test))"
   ]
  },
  {
   "cell_type": "code",
   "execution_count": 20,
   "metadata": {},
   "outputs": [
    {
     "name": "stdout",
     "output_type": "stream",
     "text": [
      "0.8031852287774018\n",
      "0.7169811320754716\n"
     ]
    }
   ],
   "source": [
    "# Using Gaussian Naive Bayes\n",
    "gnb = GaussianNB()\n",
    "gnb.fit(features_train, labels_train)\n",
    "print(gnb.score(features_train, labels_train))\n",
    "print(gnb.score(features_test, labels_test))"
   ]
  },
  {
   "cell_type": "code",
   "execution_count": 21,
   "metadata": {},
   "outputs": [
    {
     "name": "stderr",
     "output_type": "stream",
     "text": [
      "/Applications/anaconda3/lib/python3.7/site-packages/sklearn/linear_model/logistic.py:432: FutureWarning: Default solver will be changed to 'lbfgs' in 0.22. Specify a solver to silence this warning.\n",
      "  FutureWarning)\n"
     ]
    },
    {
     "name": "stdout",
     "output_type": "stream",
     "text": [
      "0.8796527879947036\n",
      "0.8301886792452831\n"
     ]
    }
   ],
   "source": [
    "# Using Logistic Regression\n",
    "lr = LogisticRegression()\n",
    "lr.fit(features_train, labels_train)\n",
    "print(lr.score(features_train, labels_train))\n",
    "print(lr.score(features_test, labels_test))"
   ]
  },
  {
   "cell_type": "code",
   "execution_count": 22,
   "metadata": {},
   "outputs": [
    {
     "name": "stdout",
     "output_type": "stream",
     "text": [
      "0.9900691481535971\n",
      "0.777078965758211\n"
     ]
    }
   ],
   "source": [
    "# Using Random Forest Classification\n",
    "rfc = RandomForestClassifier(n_estimators = 10, random_state = 0)\n",
    "rfc.fit(features_train, labels_train)\n",
    "print(rfc.score(features_train, labels_train))\n",
    "print(rfc.score(features_test, labels_test)) "
   ]
  },
  {
   "cell_type": "code",
   "execution_count": null,
   "metadata": {},
   "outputs": [],
   "source": []
  }
 ],
 "metadata": {
  "kernelspec": {
   "display_name": "Python 3",
   "language": "python",
   "name": "python3"
  },
  "language_info": {
   "codemirror_mode": {
    "name": "ipython",
    "version": 3
   },
   "file_extension": ".py",
   "mimetype": "text/x-python",
   "name": "python",
   "nbconvert_exporter": "python",
   "pygments_lexer": "ipython3",
   "version": "3.7.3"
  }
 },
 "nbformat": 4,
 "nbformat_minor": 2
}
